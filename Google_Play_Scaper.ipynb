{
  "nbformat": 4,
  "nbformat_minor": 0,
  "metadata": {
    "colab": {
      "name": "Google Play Scaper.ipynb",
      "provenance": []
    },
    "kernelspec": {
      "name": "python3",
      "display_name": "Python 3"
    },
    "language_info": {
      "name": "python"
    }
  },
  "cells": [
    {
      "cell_type": "code",
      "execution_count": null,
      "metadata": {
        "colab": {
          "base_uri": "https://localhost:8080/"
        },
        "id": "NArdOxmcrDvb",
        "outputId": "cb6fba1d-ec55-4466-ded2-7eea99da3422"
      },
      "outputs": [
        {
          "output_type": "stream",
          "name": "stdout",
          "text": [
            "Collecting google-play-scraper\n",
            "  Downloading google-play-scraper-1.0.3.tar.gz (52 kB)\n",
            "\u001b[?25l\r\u001b[K     |██████▏                         | 10 kB 24.7 MB/s eta 0:00:01\r\u001b[K     |████████████▍                   | 20 kB 13.5 MB/s eta 0:00:01\r\u001b[K     |██████████████████▋             | 30 kB 10.0 MB/s eta 0:00:01\r\u001b[K     |████████████████████████▉       | 40 kB 8.9 MB/s eta 0:00:01\r\u001b[K     |███████████████████████████████ | 51 kB 5.6 MB/s eta 0:00:01\r\u001b[K     |████████████████████████████████| 52 kB 1.0 MB/s \n",
            "\u001b[?25hBuilding wheels for collected packages: google-play-scraper\n",
            "  Building wheel for google-play-scraper (setup.py) ... \u001b[?25l\u001b[?25hdone\n",
            "  Created wheel for google-play-scraper: filename=google_play_scraper-1.0.3-py3-none-any.whl size=24394 sha256=fd351b0ebec74ec9e9f31bb5382f062ea0707dad2603e1f7ec883ced37230478\n",
            "  Stored in directory: /root/.cache/pip/wheels/81/37/0b/4a14be55b449a048cd93d79930b1a980dee7896480defa1923\n",
            "Successfully built google-play-scraper\n",
            "Installing collected packages: google-play-scraper\n",
            "Successfully installed google-play-scraper-1.0.3\n"
          ]
        }
      ],
      "source": [
        "!pip install google-play-scraper\n",
        "!pip install nlu\n",
        "!pip install pyspark"
      ]
    },
    {
      "cell_type": "code",
      "source": [
        "import itertools\n",
        "import os\n",
        "import numpy as np\n",
        "%matplotlib inline\n",
        "import matplotlib.pyplot as plt\n",
        "import numpy as np\n",
        "import pandas as pd\n",
        "import re\n",
        "import matplotlib.pyplot as plt\n",
        "import seaborn as sns\n",
        "from nltk.corpus import stopwords\n",
        "from nltk.sentiment import SentimentIntensityAnalyzer\n",
        "from sklearn.ensemble import RandomForestClassifier\n",
        "from sklearn.linear_model import LogisticRegression\n",
        "from sklearn.model_selection import cross_val_score, GridSearchCV, cross_validate\n",
        "from sklearn.preprocessing import LabelEncoder\n",
        "from textblob import Word, TextBlob\n",
        "from wordcloud import WordCloud\n",
        "from google_play_scraper import Sort, reviews_all\n",
        "import nlu"
      ],
      "metadata": {
        "id": "7XuGxGDZKgN-"
      },
      "execution_count": null,
      "outputs": []
    },
    {
      "cell_type": "code",
      "source": [
        "result = reviews_all(\n",
        "    'xyz.sheba.managerapp',\n",
        "    sleep_milliseconds=0, # defaults to 0\n",
        "    lang='en', # defaults to 'en'\n",
        "    country='us', # defaults to 'us'\n",
        "    sort=Sort.MOST_RELEVANT, # defaults to Sort.MOST_RELEVANT\n",
        "    filter_score_with= None # defaults to None(means all score)\n",
        ")"
      ],
      "metadata": {
        "id": "tE3RttzKra2f"
      },
      "execution_count": null,
      "outputs": []
    },
    {
      "cell_type": "code",
      "source": [
        "playstore_comments = pd.DataFrame(np.array(result), columns = ['content'])\n",
        "\n",
        "playstore_comments = playstore_comments.join(pd.DataFrame(playstore_comments.pop('content').tolist()))\n",
        "\n",
        "\n",
        "\n",
        "len(playstore_comments)"
      ],
      "metadata": {
        "colab": {
          "base_uri": "https://localhost:8080/"
        },
        "id": "orlr8Dhvsm4S",
        "outputId": "649fbd08-6ffd-49fd-ecab-b518950d46ca"
      },
      "execution_count": null,
      "outputs": [
        {
          "output_type": "execute_result",
          "data": {
            "text/plain": [
              "3695"
            ]
          },
          "metadata": {},
          "execution_count": 4
        }
      ]
    },
    {
      "cell_type": "code",
      "source": [
        "len(playstore_comments)"
      ],
      "metadata": {
        "colab": {
          "base_uri": "https://localhost:8080/"
        },
        "id": "sCChE0LG3VEV",
        "outputId": "f6582fd7-b426-4b74-d7e9-b3268afa966c"
      },
      "execution_count": null,
      "outputs": [
        {
          "output_type": "execute_result",
          "data": {
            "text/plain": [
              "3695"
            ]
          },
          "metadata": {},
          "execution_count": 5
        }
      ]
    },
    {
      "cell_type": "code",
      "source": [
        "playstore_commentsdf = playstore_comments['content']"
      ],
      "metadata": {
        "id": "DdBjlIEt6SBf"
      },
      "execution_count": null,
      "outputs": []
    },
    {
      "cell_type": "code",
      "source": [
        "print(playstore_commentsdf)"
      ],
      "metadata": {
        "colab": {
          "base_uri": "https://localhost:8080/"
        },
        "id": "bEkQorMa6SJA",
        "outputId": "f5bf5cbd-2a07-43d8-85b7-f474fc5761d7"
      },
      "execution_count": null,
      "outputs": [
        {
          "output_type": "stream",
          "name": "stdout",
          "text": [
            "0       Assalamu alaikum this software is really very ...\n",
            "1       App is good but transactions has a bug. If we ...\n",
            "2       It's an amazing app... I use this app 5 months...\n",
            "3       Bad app, bad service. So far none of the compl...\n",
            "4       It was doing well but at present its services ...\n",
            "                              ...                        \n",
            "3684                                                 Good\n",
            "3685                                                 Nice\n",
            "3686                                                 Good\n",
            "3687                                                 nice\n",
            "3688                                           Asmotullah\n",
            "Name: content, Length: 3689, dtype: object\n"
          ]
        }
      ]
    },
    {
      "cell_type": "code",
      "source": [
        "playstore_commentsdf.to_csv(\"Playstore_main_file.csv\")"
      ],
      "metadata": {
        "id": "Wfm9PVPKLI0j"
      },
      "execution_count": null,
      "outputs": []
    },
    {
      "cell_type": "code",
      "source": [
        "Gplay_Reviews = playstore_comments['content'].dropna()"
      ],
      "metadata": {
        "id": "9uPAzOpL6SMS"
      },
      "execution_count": null,
      "outputs": []
    },
    {
      "cell_type": "code",
      "source": [
        "print(Gplay_Reviews)"
      ],
      "metadata": {
        "colab": {
          "base_uri": "https://localhost:8080/"
        },
        "id": "WFxmT28h6SO6",
        "outputId": "6a7c6c45-1d35-443a-ea9d-783cf3f709ba"
      },
      "execution_count": null,
      "outputs": [
        {
          "output_type": "stream",
          "name": "stdout",
          "text": [
            "0       Assalamu alaikum this software is really very ...\n",
            "1       App is good but transactions has a bug. If we ...\n",
            "2       It's an amazing app... I use this app 5 months...\n",
            "3       Bad app, bad service. So far none of the compl...\n",
            "4       It was doing well but at present its services ...\n",
            "                              ...                        \n",
            "3684                                                 Good\n",
            "3685                                                 Nice\n",
            "3686                                                 Good\n",
            "3687                                                 nice\n",
            "3688                                           Asmotullah\n",
            "Name: content, Length: 3689, dtype: object\n"
          ]
        }
      ]
    },
    {
      "cell_type": "code",
      "source": [
        "Gplay_Reviews = Gplay_Reviews.str.lower()\n",
        "Gplay_Reviews.head()"
      ],
      "metadata": {
        "colab": {
          "base_uri": "https://localhost:8080/"
        },
        "id": "sdbaj53A6SRG",
        "outputId": "eb693b4e-24c2-4385-fa59-a53eee92b28a"
      },
      "execution_count": null,
      "outputs": [
        {
          "output_type": "execute_result",
          "data": {
            "text/plain": [
              "0    assalamu alaikum this software is really very ...\n",
              "1    app is good but transactions has a bug. if we ...\n",
              "2    it's an amazing app... i use this app 5 months...\n",
              "3    bad app, bad service. so far none of the compl...\n",
              "4    it was doing well but at present its services ...\n",
              "Name: content, dtype: object"
            ]
          },
          "metadata": {},
          "execution_count": 32
        }
      ]
    },
    {
      "cell_type": "code",
      "source": [
        "Gplay_Reviews = Gplay_Reviews.str.replace('[^\\w\\s]', '')\n",
        "Gplay_Reviews = Gplay_Reviews.str.replace('\\d', '')\n",
        "Gplay_Reviews"
      ],
      "metadata": {
        "colab": {
          "base_uri": "https://localhost:8080/"
        },
        "id": "_tg62gln9FIA",
        "outputId": "087df789-8dd0-4b9a-9389-42d25c76ff7b"
      },
      "execution_count": null,
      "outputs": [
        {
          "output_type": "execute_result",
          "data": {
            "text/plain": [
              "0       assalamu alaikum this software is really very ...\n",
              "1       app is good but transactions has a bug if we e...\n",
              "2       its an amazing app i use this app  monthsvery ...\n",
              "3       bad app bad service so far none of the complai...\n",
              "4       it was doing well but at present its services ...\n",
              "                              ...                        \n",
              "3684                                                 good\n",
              "3685                                                 nice\n",
              "3686                                                 good\n",
              "3687                                                 nice\n",
              "3688                                           asmotullah\n",
              "Name: content, Length: 3689, dtype: object"
            ]
          },
          "metadata": {},
          "execution_count": 33
        }
      ]
    },
    {
      "cell_type": "code",
      "source": [
        "stopword_df = nlu.load('bn.stopwords').predict(Gplay_Reviews)"
      ],
      "metadata": {
        "colab": {
          "base_uri": "https://localhost:8080/"
        },
        "id": "nIOjDg4t9VvY",
        "outputId": "74e891ed-6b78-4fd8-9a91-811a2771d18c"
      },
      "execution_count": null,
      "outputs": [
        {
          "output_type": "stream",
          "name": "stdout",
          "text": [
            "stopwords_bn download started this may take some time.\n",
            "Approximate size to download 1.9 KB\n",
            "[OK!]\n",
            "sentence_detector_dl download started this may take some time.\n",
            "Approximate size to download 354.6 KB\n",
            "[OK!]\n"
          ]
        }
      ]
    },
    {
      "cell_type": "code",
      "source": [
        "Gplay_stopword_df = nlu.load('bn.stopwords').predict(Gplay_Reviews)"
      ],
      "metadata": {
        "colab": {
          "base_uri": "https://localhost:8080/"
        },
        "id": "KXXzV2yIABjI",
        "outputId": "bb003578-45c4-48b7-b207-f291bdc82909"
      },
      "execution_count": null,
      "outputs": [
        {
          "output_type": "stream",
          "name": "stdout",
          "text": [
            "stopwords_bn download started this may take some time.\n",
            "Approximate size to download 1.9 KB\n",
            "[OK!]\n",
            "sentence_detector_dl download started this may take some time.\n",
            "Approximate size to download 354.6 KB\n",
            "[OK!]\n"
          ]
        }
      ]
    },
    {
      "cell_type": "code",
      "source": [
        "print(Gplay_stopword_df)"
      ],
      "metadata": {
        "colab": {
          "base_uri": "https://localhost:8080/"
        },
        "id": "QCReue-TAVPz",
        "outputId": "224568d5-dbfa-4b33-e909-e2479da20c91"
      },
      "execution_count": null,
      "outputs": [
        {
          "output_type": "stream",
          "name": "stdout",
          "text": [
            "     stopword_less       token\n",
            "0         assalamu    assalamu\n",
            "0          alaikum     alaikum\n",
            "0             this        this\n",
            "0         software    software\n",
            "0               is          is\n",
            "...            ...         ...\n",
            "3684          good        good\n",
            "3685          nice        nice\n",
            "3686          good        good\n",
            "3687          nice        nice\n",
            "3688    asmotullah  asmotullah\n",
            "\n",
            "[21350 rows x 2 columns]\n"
          ]
        }
      ]
    },
    {
      "cell_type": "code",
      "source": [
        "Gplay_Reviews_only_eng = Gplay_Reviews.apply(lambda x: \" \".join(x for x in str(x).split() if x not in Gplay_stopword_df))"
      ],
      "metadata": {
        "id": "sIIW2fwdAplh"
      },
      "execution_count": null,
      "outputs": []
    },
    {
      "cell_type": "code",
      "source": [
        "import nltk\n",
        "nltk.download('stopwords')"
      ],
      "metadata": {
        "colab": {
          "base_uri": "https://localhost:8080/"
        },
        "id": "nepiTJJqA6fM",
        "outputId": "db83de13-b5bd-439f-82ec-0103a0ebdbe9"
      },
      "execution_count": null,
      "outputs": [
        {
          "output_type": "stream",
          "name": "stdout",
          "text": [
            "[nltk_data] Downloading package stopwords to /root/nltk_data...\n",
            "[nltk_data]   Unzipping corpora/stopwords.zip.\n"
          ]
        },
        {
          "output_type": "execute_result",
          "data": {
            "text/plain": [
              "True"
            ]
          },
          "metadata": {},
          "execution_count": 43
        }
      ]
    },
    {
      "cell_type": "code",
      "source": [
        "sw = stopwords.words('english')"
      ],
      "metadata": {
        "id": "AlfDEl1WA_H_"
      },
      "execution_count": null,
      "outputs": []
    },
    {
      "cell_type": "code",
      "source": [
        "append_list = ['ekhono','plz','din','ase','te','ki','te','oen','jay','yes','amr','amar','nai','kintu','sudu','kore','kono','ekbare','jabe','babe','ar','s','seta','fon','amn','amon','emon','emn','hobe','hbe','chaie']"
      ],
      "metadata": {
        "id": "w-whm-Q-BFKP"
      },
      "execution_count": null,
      "outputs": []
    },
    {
      "cell_type": "code",
      "source": [
        "for text in append_list:\n",
        "  sw.append(text)"
      ],
      "metadata": {
        "id": "yqbKXT23BKCF"
      },
      "execution_count": null,
      "outputs": []
    },
    {
      "cell_type": "code",
      "source": [
        "Gplay_Reviews_all = Gplay_Reviews_only_eng.apply(lambda x: \" \".join(x for x in str(x).split() if x not in sw))"
      ],
      "metadata": {
        "id": "ZGRXA8ZiBOzX"
      },
      "execution_count": null,
      "outputs": []
    },
    {
      "cell_type": "code",
      "source": [
        "import nltk\n",
        "nltk.download('punkt')"
      ],
      "metadata": {
        "colab": {
          "base_uri": "https://localhost:8080/"
        },
        "id": "GE2A_jwGBWY2",
        "outputId": "182a87ec-a9b3-4e7c-843f-bab06c6ed68f"
      },
      "execution_count": null,
      "outputs": [
        {
          "output_type": "stream",
          "name": "stdout",
          "text": [
            "[nltk_data] Downloading package punkt to /root/nltk_data...\n",
            "[nltk_data]   Unzipping tokenizers/punkt.zip.\n"
          ]
        },
        {
          "output_type": "execute_result",
          "data": {
            "text/plain": [
              "True"
            ]
          },
          "metadata": {},
          "execution_count": 48
        }
      ]
    },
    {
      "cell_type": "code",
      "source": [
        "Gplay_Reviews_token = Gplay_Reviews_all.apply(lambda x: TextBlob(x).words)"
      ],
      "metadata": {
        "id": "Vr0LxPO2Bep0"
      },
      "execution_count": null,
      "outputs": []
    },
    {
      "cell_type": "code",
      "source": [
        "Gplay_Reviews_all"
      ],
      "metadata": {
        "colab": {
          "base_uri": "https://localhost:8080/"
        },
        "id": "UXcrxUn_H2Q0",
        "outputId": "54bdc9a9-3f2d-47a0-fce2-c6b8bf5fa811"
      },
      "execution_count": null,
      "outputs": [
        {
          "output_type": "execute_result",
          "data": {
            "text/plain": [
              "0       assalamu alaikum software really helpful top d...\n",
              "1       app good transactions bug entry something stoc...\n",
              "2       amazing app use app monthsvery helpful easy un...\n",
              "3       bad app bad service far none complaints receiv...\n",
              "4       well present services bad topup taking much ti...\n",
              "                              ...                        \n",
              "3684                                                 good\n",
              "3685                                                 nice\n",
              "3686                                                 good\n",
              "3687                                                 nice\n",
              "3688                                           asmotullah\n",
              "Name: content, Length: 3689, dtype: object"
            ]
          },
          "metadata": {},
          "execution_count": 76
        }
      ]
    },
    {
      "cell_type": "code",
      "source": [
        "Gplay_Reviews_tokendf = Gplay_Reviews_token.to_frame()"
      ],
      "metadata": {
        "id": "IZAJXRHbBesf"
      },
      "execution_count": null,
      "outputs": []
    },
    {
      "cell_type": "code",
      "source": [
        "len(Gplay_Reviews_token)"
      ],
      "metadata": {
        "colab": {
          "base_uri": "https://localhost:8080/"
        },
        "id": "osL5r3-3Beuo",
        "outputId": "3fb14822-dba2-4a5f-b813-b2148d8feade"
      },
      "execution_count": null,
      "outputs": [
        {
          "output_type": "execute_result",
          "data": {
            "text/plain": [
              "3689"
            ]
          },
          "metadata": {},
          "execution_count": 51
        }
      ]
    },
    {
      "cell_type": "code",
      "source": [
        "Gplay_Reviews_tokendf['content']"
      ],
      "metadata": {
        "colab": {
          "base_uri": "https://localhost:8080/"
        },
        "id": "n8_dWdKqBew7",
        "outputId": "54778ef1-ac9b-4dca-b287-f8543238f759"
      },
      "execution_count": null,
      "outputs": [
        {
          "output_type": "execute_result",
          "data": {
            "text/plain": [
              "0       [assalamu, alaikum, software, really, helpful,...\n",
              "1       [app, good, transactions, bug, entry, somethin...\n",
              "2       [amazing, app, use, app, monthsvery, helpful, ...\n",
              "3       [bad, app, bad, service, far, none, complaints...\n",
              "4       [well, present, services, bad, topup, taking, ...\n",
              "                              ...                        \n",
              "3684                                               [good]\n",
              "3685                                               [nice]\n",
              "3686                                               [good]\n",
              "3687                                               [nice]\n",
              "3688                                         [asmotullah]\n",
              "Name: content, Length: 3689, dtype: object"
            ]
          },
          "metadata": {},
          "execution_count": 53
        }
      ]
    },
    {
      "cell_type": "code",
      "source": [
        "tf = Gplay_Reviews_all"
      ],
      "metadata": {
        "id": "Kpfr-G69Be31"
      },
      "execution_count": null,
      "outputs": []
    },
    {
      "cell_type": "code",
      "source": [
        "def listToString(s): \n",
        "    \n",
        "    # initialize an empty string\n",
        "    str1 = \"\" \n",
        "    # traverse in the string  \n",
        "    for ele in s: \n",
        "        str1 += str(ele)  \n",
        "    \n",
        "    # return string  \n",
        "    return str1 "
      ],
      "metadata": {
        "id": "5nNL3M_hBe6H"
      },
      "execution_count": null,
      "outputs": []
    },
    {
      "cell_type": "code",
      "source": [
        "def word_count(str):\n",
        "    counts = dict()\n",
        "    words = str.split()\n",
        "\n",
        "    for word in words:\n",
        "        if word in counts:\n",
        "            counts[word] += 1\n",
        "        else:\n",
        "            counts[word] = 1\n",
        "\n",
        "    return counts"
      ],
      "metadata": {
        "id": "uBACvlQXBe8k"
      },
      "execution_count": null,
      "outputs": []
    },
    {
      "cell_type": "code",
      "source": [
        "len(tf)"
      ],
      "metadata": {
        "colab": {
          "base_uri": "https://localhost:8080/"
        },
        "id": "kKkqvQtmC1dn",
        "outputId": "e0c9fa56-5819-4e2a-82f2-ab1947948bde"
      },
      "execution_count": null,
      "outputs": [
        {
          "output_type": "execute_result",
          "data": {
            "text/plain": [
              "3689"
            ]
          },
          "metadata": {},
          "execution_count": 81
        }
      ]
    },
    {
      "cell_type": "code",
      "source": [
        "Gplay_count = word_count(listToString(tf))"
      ],
      "metadata": {
        "id": "P9XdnPO_C1gw"
      },
      "execution_count": null,
      "outputs": []
    },
    {
      "cell_type": "code",
      "source": [
        "Gplay_count"
      ],
      "metadata": {
        "colab": {
          "base_uri": "https://localhost:8080/"
        },
        "id": "ycrqt8apEPmq",
        "outputId": "dc9c207f-91fd-40e4-b89d-2602558f0f33"
      },
      "execution_count": null,
      "outputs": [
        {
          "output_type": "execute_result",
          "data": {
            "text/plain": [
              "{'assalamu': 1,\n",
              " 'alaikum': 1,\n",
              " 'software': 8,\n",
              " 'really': 5,\n",
              " 'helpful': 13,\n",
              " 'top': 18,\n",
              " 'different': 2,\n",
              " 'many': 7,\n",
              " 'good': 56,\n",
              " 'programs': 1,\n",
              " 'surprised': 1,\n",
              " 'see': 2,\n",
              " 'biggest': 2,\n",
              " 'thing': 1,\n",
              " 'anyone': 1,\n",
              " 'wants': 3,\n",
              " 'business': 49,\n",
              " 'manager': 10,\n",
              " 'call': 18,\n",
              " 'customer': 10,\n",
              " 'care': 3,\n",
              " 'want': 4,\n",
              " 'know': 7,\n",
              " 'setup': 1,\n",
              " 'use': 42,\n",
              " 'without': 6,\n",
              " 'problem': 12,\n",
              " 'benefit': 1,\n",
              " 'lotapp': 1,\n",
              " 'transactions': 1,\n",
              " 'bug': 4,\n",
              " 'entry': 3,\n",
              " 'something': 6,\n",
              " 'stock': 3,\n",
              " 'payment': 13,\n",
              " 'made': 2,\n",
              " 'unchanged': 1,\n",
              " 'even': 6,\n",
              " 'delete': 10,\n",
              " 'edit': 6,\n",
              " 'app': 255,\n",
              " 'inventory': 1,\n",
              " 'pos': 2,\n",
              " 'big': 5,\n",
              " 'blunder': 1,\n",
              " 'hope': 4,\n",
              " 'developer': 1,\n",
              " 'updateamazing': 1,\n",
              " 'monthsvery': 1,\n",
              " 'easy': 11,\n",
              " 'understand': 4,\n",
              " 'everyone': 2,\n",
              " 'gives': 3,\n",
              " 'much': 15,\n",
              " 'profit': 3,\n",
              " 'im': 10,\n",
              " 'completely': 2,\n",
              " 'satisfiedbad': 1,\n",
              " 'bad': 24,\n",
              " 'service': 39,\n",
              " 'far': 1,\n",
              " 'none': 1,\n",
              " 'complaints': 1,\n",
              " 'received': 2,\n",
              " 'resolved': 1,\n",
              " 'lost': 2,\n",
              " 'also': 10,\n",
              " 'pay': 7,\n",
              " 'appwell': 1,\n",
              " 'present': 1,\n",
              " 'services': 8,\n",
              " 'topup': 9,\n",
              " 'taking': 1,\n",
              " 'time': 14,\n",
              " 'first': 7,\n",
              " 'login': 2,\n",
              " 'otp': 5,\n",
              " 'coming': 3,\n",
              " 'times': 5,\n",
              " 'sometimes': 5,\n",
              " 'harassing': 1,\n",
              " 'customers': 4,\n",
              " 'sellers': 1,\n",
              " 'says': 7,\n",
              " 'successful': 2,\n",
              " 'always': 2,\n",
              " 'available': 4,\n",
              " 'real': 4,\n",
              " 'otps': 1,\n",
              " 'working': 9,\n",
              " 'practical': 1,\n",
              " 'experiences': 1,\n",
              " 'careful': 1,\n",
              " 'buying': 2,\n",
              " 'appmanager': 2,\n",
              " 'greatfull': 1,\n",
              " 'think': 6,\n",
              " 'future': 4,\n",
              " 'ai': 13,\n",
              " 'thakbe': 1,\n",
              " 'ami': 17,\n",
              " 'onk': 7,\n",
              " 'age': 4,\n",
              " 'thekei': 1,\n",
              " 'smanager': 37,\n",
              " 'used': 5,\n",
              " 'kortam': 2,\n",
              " 'mobile': 7,\n",
              " 'recharge': 8,\n",
              " 'option': 37,\n",
              " 'ta': 27,\n",
              " 'tader': 7,\n",
              " 'charge': 7,\n",
              " 'aktu': 2,\n",
              " 'bashi': 2,\n",
              " 'thakar': 1,\n",
              " 'karone': 2,\n",
              " 'korte': 12,\n",
              " 'pari': 1,\n",
              " 'aj': 1,\n",
              " 'aber': 3,\n",
              " 'install': 10,\n",
              " 'dakhlam': 1,\n",
              " 'smaneger': 3,\n",
              " 'update': 23,\n",
              " 'korche': 2,\n",
              " 'sadhin': 1,\n",
              " 'proker': 1,\n",
              " 'cost': 1,\n",
              " 'chara': 1,\n",
              " 'uesd': 1,\n",
              " 'kora': 25,\n",
              " 'tai': 2,\n",
              " 'fera': 1,\n",
              " 'lam': 1,\n",
              " 'rokom': 1,\n",
              " 'support': 7,\n",
              " 'dile': 2,\n",
              " 'onek': 7,\n",
              " 'asbe': 1,\n",
              " 'inshallahfraud': 1,\n",
              " 'full': 6,\n",
              " 'lier': 1,\n",
              " 'beginning': 1,\n",
              " 'told': 4,\n",
              " 'able': 5,\n",
              " 'getway': 1,\n",
              " 'website': 1,\n",
              " 'local': 1,\n",
              " 'international': 1,\n",
              " 'saying': 2,\n",
              " 'dont': 37,\n",
              " 'serviceeven': 1,\n",
              " 'stopped': 2,\n",
              " 'digital': 10,\n",
              " 'collection': 5,\n",
              " 'feature': 5,\n",
              " 'advance': 1,\n",
              " 'notice': 1,\n",
              " 'midway': 1,\n",
              " 'people': 3,\n",
              " 'paid': 2,\n",
              " 'already': 5,\n",
              " 'unprofessional': 2,\n",
              " 'behavior': 1,\n",
              " 'bdt': 1,\n",
              " 'waste': 6,\n",
              " 'stay': 2,\n",
              " 'fraud': 5,\n",
              " 'companyfraud': 1,\n",
              " 'money': 19,\n",
              " 'scammer': 1,\n",
              " 'took': 2,\n",
              " 'bay': 1,\n",
              " 'staying': 1,\n",
              " 'provide': 3,\n",
              " 'never': 3,\n",
              " 'could': 1,\n",
              " 'appgood': 163,\n",
              " 'apps': 99,\n",
              " 'awesomebad': 1,\n",
              " 'later': 1,\n",
              " 'direct': 1,\n",
              " 'go': 3,\n",
              " 'play': 10,\n",
              " 'store': 8,\n",
              " 'need': 16,\n",
              " 'hours': 2,\n",
              " 'going': 2,\n",
              " 'heal': 1,\n",
              " 'didnt': 8,\n",
              " 'workstar': 1,\n",
              " 'cant': 9,\n",
              " 'changer': 1,\n",
              " 'bkash': 8,\n",
              " 'nagad': 4,\n",
              " 'fund': 2,\n",
              " 'set': 2,\n",
              " 'balance': 2,\n",
              " 'transfer': 1,\n",
              " 'withdraw': 4,\n",
              " 'totally': 3,\n",
              " 'uncompleted': 1,\n",
              " 'product': 5,\n",
              " 'looking': 1,\n",
              " 'anothertried': 1,\n",
              " 'verify': 7,\n",
              " 'profile': 3,\n",
              " 'nid': 22,\n",
              " 'allow': 3,\n",
              " 'camera': 3,\n",
              " 'storage': 2,\n",
              " 'permission': 7,\n",
              " 'continue': 2,\n",
              " 'ive': 1,\n",
              " 'allowed': 2,\n",
              " 'fix': 2,\n",
              " 'bugreally': 1,\n",
              " 'disappointed': 1,\n",
              " 'worst': 3,\n",
              " 'boosting': 2,\n",
              " 'price': 2,\n",
              " 'high': 1,\n",
              " 'get': 18,\n",
              " 'expected': 1,\n",
              " 'result': 2,\n",
              " 'sales': 2,\n",
              " 'fargood': 1,\n",
              " 'shop': 4,\n",
              " 'buseness': 1,\n",
              " 'wheri': 1,\n",
              " 'like': 14,\n",
              " 'smanagerthanksgood': 1,\n",
              " 'issues': 2,\n",
              " 'loading': 3,\n",
              " 'issue': 3,\n",
              " 'developers': 3,\n",
              " 'solve': 1,\n",
              " 'plzzzbeautiful': 1,\n",
              " 'appsvery': 1,\n",
              " 'apppsawesome': 1,\n",
              " 'maintain': 5,\n",
              " 'businesssmart': 1,\n",
              " 'aap': 1,\n",
              " 'nice': 24,\n",
              " 'thinkingto': 1,\n",
              " 'make': 4,\n",
              " 'users': 1,\n",
              " 'keep': 7,\n",
              " 'goingapp': 1,\n",
              " 'opening': 4,\n",
              " 'crushed': 1,\n",
              " 'tried': 5,\n",
              " 'installed': 4,\n",
              " 'improvement': 1,\n",
              " 'solution': 7,\n",
              " 'internet': 3,\n",
              " 'providers': 2,\n",
              " 'say': 5,\n",
              " 'restart': 1,\n",
              " 'router': 1,\n",
              " 'solvedvalidity': 1,\n",
              " 'tokens': 1,\n",
              " 'recharging': 1,\n",
              " 'help': 19,\n",
              " 'dirty': 1,\n",
              " 'applicationtop': 1,\n",
              " 'error': 3,\n",
              " 'loaded': 1,\n",
              " 'please': 13,\n",
              " 'immediatelyfake': 1,\n",
              " 'installim': 1,\n",
              " 'read': 1,\n",
              " 'comment': 1,\n",
              " 'lot': 4,\n",
              " 'wish': 1,\n",
              " 'start': 2,\n",
              " 'mind': 1,\n",
              " 'commentsunable': 1,\n",
              " 'register': 4,\n",
              " 'account': 10,\n",
              " 'versionnice': 1,\n",
              " 'discount': 4,\n",
              " 'valonanice': 1,\n",
              " 'useful': 7,\n",
              " 'us': 8,\n",
              " 'peace': 1,\n",
              " 'daily': 3,\n",
              " 'life': 2,\n",
              " 'calculate': 1,\n",
              " 'dateapplication': 1,\n",
              " 'offers': 1,\n",
              " 'fairly': 2,\n",
              " 'suggestions': 1,\n",
              " 'difference': 1,\n",
              " 'operator': 1,\n",
              " 'language': 4,\n",
              " 'system': 16,\n",
              " 'house': 1,\n",
              " 'rural': 1,\n",
              " 'electricity': 2,\n",
              " 'bill': 5,\n",
              " 'paidbad': 1,\n",
              " 'experience': 8,\n",
              " 'storege': 1,\n",
              " 'still': 2,\n",
              " 'funnynice': 1,\n",
              " 'highly': 2,\n",
              " 'revommendedfully': 1,\n",
              " 'disgusting': 4,\n",
              " 'deducted': 2,\n",
              " 'taka': 21,\n",
              " 'deposited': 2,\n",
              " 'test': 2,\n",
              " 'called': 4,\n",
              " 'deposit': 1,\n",
              " 'another': 1,\n",
              " 'amount': 3,\n",
              " 'user': 6,\n",
              " 'found': 3,\n",
              " 'logged': 1,\n",
              " 'requested': 2,\n",
              " 'several': 2,\n",
              " 'back': 3,\n",
              " 'nothing': 3,\n",
              " 'happened': 1,\n",
              " 'enough': 1,\n",
              " 'security': 3,\n",
              " 'policy': 1,\n",
              " 'recommended': 2,\n",
              " 'dealregistration': 1,\n",
              " 'process': 4,\n",
              " 'smooth': 1,\n",
              " 'add': 19,\n",
              " 'categories': 1,\n",
              " 'list': 1,\n",
              " 'automated': 1,\n",
              " 'calculation': 2,\n",
              " 'added': 2,\n",
              " 'overall': 2,\n",
              " 'needs': 4,\n",
              " 'updates': 2,\n",
              " 'bettermentssmanager': 1,\n",
              " 'kinds': 2,\n",
              " 'calculations': 2,\n",
              " 'done': 4,\n",
              " 'easily': 5,\n",
              " 'rest': 3,\n",
              " 'submission': 2,\n",
              " 'written': 2,\n",
              " 'workgood': 2,\n",
              " 'best': 24,\n",
              " 'offerthats': 1,\n",
              " 'one': 7,\n",
              " 'wrong': 3,\n",
              " 'editing': 1,\n",
              " 'isnt': 4,\n",
              " 'deposithelpful': 1,\n",
              " 'appsnice': 72,\n",
              " 'successfulworst': 1,\n",
              " 'management': 4,\n",
              " 'team': 6,\n",
              " 'ever': 3,\n",
              " 'experince': 1,\n",
              " 'theyll': 2,\n",
              " 'ensure': 1,\n",
              " 'better': 7,\n",
              " 'quality': 2,\n",
              " 'il': 1,\n",
              " 'giving': 4,\n",
              " 'stars': 1,\n",
              " 'ill': 1,\n",
              " 'give': 21,\n",
              " 'startsmanager': 1,\n",
              " 'work': 16,\n",
              " 'asilyneed': 1,\n",
              " 'invoice': 4,\n",
              " 'download': 17,\n",
              " 'print': 2,\n",
              " 'completing': 3,\n",
              " 'order': 2,\n",
              " 'currently': 1,\n",
              " 'jobmade': 1,\n",
              " 'mistake': 2,\n",
              " 'downloading': 2,\n",
              " 'bothered': 1,\n",
              " 'phone': 7,\n",
              " 'repeatedly': 1,\n",
              " 'day': 3,\n",
              " 'night': 1,\n",
              " 'hey': 2,\n",
              " 'brother': 1,\n",
              " 'things': 2,\n",
              " 'take': 7,\n",
              " 'shout': 1,\n",
              " 'street': 1,\n",
              " 'drug': 1,\n",
              " 'dealers': 1,\n",
              " 'annoyingdisgusting': 1,\n",
              " 'youll': 3,\n",
              " 'faced': 1,\n",
              " 'unwanted': 1,\n",
              " 'interested': 2,\n",
              " 'others': 1,\n",
              " 'members': 1,\n",
              " 'disturbing': 1,\n",
              " 'find': 2,\n",
              " 'check': 3,\n",
              " 'relevant': 1,\n",
              " 'solved': 3,\n",
              " 'facing': 1,\n",
              " 'months': 3,\n",
              " 'telling': 2,\n",
              " 'interest': 1,\n",
              " 'theyre': 1,\n",
              " 'continuefully': 1,\n",
              " 'tk': 39,\n",
              " 'bonus': 5,\n",
              " 'registration': 24,\n",
              " 'premium': 5,\n",
              " 'subscription': 5,\n",
              " 'deducate': 1,\n",
              " 'fraudtrying': 1,\n",
              " 'sign': 1,\n",
              " 'digits': 1,\n",
              " 'codes': 1,\n",
              " 'minutes': 1,\n",
              " 'send': 3,\n",
              " 'code': 13,\n",
              " 'thats': 5,\n",
              " 'ignore': 1,\n",
              " 'customereasy': 1,\n",
              " 'anybody': 1,\n",
              " 'loss': 4,\n",
              " 'important': 5,\n",
              " 'businesshonestly': 1,\n",
              " 'ima': 1,\n",
              " 'gonna': 4,\n",
              " 'star': 9,\n",
              " 'way': 4,\n",
              " 'change': 2,\n",
              " 'name': 6,\n",
              " 'fake': 13,\n",
              " 'ads': 1,\n",
              " 'include': 1,\n",
              " 'ad': 2,\n",
              " 'subscriptions': 1,\n",
              " 'free': 11,\n",
              " 'lose': 1,\n",
              " 'recommend': 2,\n",
              " 'tali': 1,\n",
              " 'khata': 4,\n",
              " 'trashthats': 1,\n",
              " 'thay': 1,\n",
              " 'response': 2,\n",
              " 'ignored': 1,\n",
              " 'usadd': 1,\n",
              " 'english': 3,\n",
              " 'purchase': 2,\n",
              " 'book': 2,\n",
              " 'homepage': 1,\n",
              " 'return': 1,\n",
              " 'inward': 1,\n",
              " 'outward': 1,\n",
              " 'pdf': 1,\n",
              " 'format': 1,\n",
              " 'saving': 1,\n",
              " 'reports': 1,\n",
              " 'basic': 1,\n",
              " 'package': 8,\n",
              " 'email': 1,\n",
              " 'button': 1,\n",
              " 'using': 8,\n",
              " 'mail': 1,\n",
              " 'easilyuiux': 1,\n",
              " 'improvements': 1,\n",
              " 'fonts': 1,\n",
              " 'icons': 1,\n",
              " 'look': 1,\n",
              " 'old': 2,\n",
              " 'dated': 1,\n",
              " 'devs': 1,\n",
              " 'must': 1,\n",
              " 'uiux': 1,\n",
              " 'sutonymj': 1,\n",
              " 'font': 1,\n",
              " 'choice': 1,\n",
              " 'otherwise': 1,\n",
              " 'everything': 1,\n",
              " 'fineu': 1,\n",
              " 'sector': 1,\n",
              " 'emi': 6,\n",
              " 'helping': 2,\n",
              " 'develop': 3,\n",
              " 'businessapp': 3,\n",
              " 'tradersthanks': 1,\n",
              " 'poribar': 1,\n",
              " 'keneed': 1,\n",
              " 'chat': 1,\n",
              " 'selling': 1,\n",
              " 'goods': 1,\n",
              " 'pubg': 1,\n",
              " 'uc': 1,\n",
              " 'google': 6,\n",
              " 'card': 6,\n",
              " 'fire': 1,\n",
              " 'diamond': 1,\n",
              " 'etc': 3,\n",
              " 'close': 6,\n",
              " 'cash': 5,\n",
              " 'delivery': 2,\n",
              " 'open': 11,\n",
              " 'online': 7,\n",
              " 'physical': 1,\n",
              " 'collect': 4,\n",
              " 'customernice': 1,\n",
              " 'appnice': 173,\n",
              " 'appneed': 2,\n",
              " 'feedbackprofessional': 1,\n",
              " 'performanceawesome': 1,\n",
              " 'appiam': 1,\n",
              " 'thanks': 16,\n",
              " 'managerreally': 1,\n",
              " 'annoying': 1,\n",
              " 'alarmnotification': 1,\n",
              " 'would': 3,\n",
              " 'superscede': 1,\n",
              " 'notification': 1,\n",
              " 'tone': 1,\n",
              " 'adverts': 1,\n",
              " 'ridiculous': 2,\n",
              " 'propositionvaluable': 1,\n",
              " 'solutionapp': 1,\n",
              " 'soo': 1,\n",
              " 'soooo': 1,\n",
              " 'happy': 4,\n",
              " 'appfantastic': 1,\n",
              " 'appdeveloper': 1,\n",
              " 'options': 4,\n",
              " 'hindi': 1,\n",
              " 'bettercontrol': 1,\n",
              " 'access': 3,\n",
              " 'safehope': 1,\n",
              " 'small': 4,\n",
              " 'fast': 3,\n",
              " 'food': 1,\n",
              " 'thanksworking': 1,\n",
              " 'todaybut': 1,\n",
              " 'dinnot': 1,\n",
              " 'todaytry': 1,\n",
              " 'went': 4,\n",
              " 'wrongthatll': 1,\n",
              " 'presence': 1,\n",
              " 'create': 1,\n",
              " 'booth': 2,\n",
              " 'curtains': 1,\n",
              " 'instagram': 1,\n",
              " 'message': 1,\n",
              " 'someone': 1,\n",
              " 'else': 2,\n",
              " 'posted': 1,\n",
              " 'progress': 1,\n",
              " 'owner': 1,\n",
              " 'happening': 1,\n",
              " 'mystery': 2,\n",
              " 'thatll': 1,\n",
              " 'every': 8,\n",
              " 'weekend': 1,\n",
              " 'tomorrow': 1,\n",
              " 'anything': 1,\n",
              " 'person': 2,\n",
              " 'believe': 1,\n",
              " 'sure': 1,\n",
              " 'likebad': 1,\n",
              " 'automatically': 3,\n",
              " 'stop': 3,\n",
              " 'force': 1,\n",
              " 'improvementgood': 1,\n",
              " 'appslow': 1,\n",
              " 'takes': 1,\n",
              " 'interface': 1,\n",
              " 'friendly': 2,\n",
              " 'shouldve': 1,\n",
              " 'offline': 2,\n",
              " 'availablebad': 1,\n",
              " 'disturb': 3,\n",
              " 'meyou': 1,\n",
              " 'calling': 2,\n",
              " 'complenui': 1,\n",
              " 'awful': 1,\n",
              " 'cropping': 1,\n",
              " 'picture': 1,\n",
              " 'facebook': 3,\n",
              " 'boost': 1,\n",
              " 'deserves': 1,\n",
              " 'starnice': 1,\n",
              " 'appfalse': 1,\n",
              " 'promising': 2,\n",
              " 'appthey': 1,\n",
              " 'buy': 2,\n",
              " 'loanbut': 1,\n",
              " 'yrs': 1,\n",
              " 'servicevery': 1,\n",
              " 'allthere': 1,\n",
              " 'agents': 1,\n",
              " 'mannerbad': 1,\n",
              " 'experiencefraud': 1,\n",
              " 'spent': 1,\n",
              " 'subscribe': 1,\n",
              " 'shebaxyz': 2,\n",
              " 'permissiondisturbing': 1,\n",
              " 'disturbed': 2,\n",
              " 'number': 11,\n",
              " 'complete': 4,\n",
              " 'regestrationdropped': 1,\n",
              " 'got': 3,\n",
              " 'cheat': 1,\n",
              " 'lookapp': 1,\n",
              " 'feel': 2,\n",
              " 'proud': 1,\n",
              " 'finishingbad': 1,\n",
              " 'properly': 2,\n",
              " 'face': 1,\n",
              " 'problemsgot': 1,\n",
              " 'excellent': 2,\n",
              " 'ideas': 1,\n",
              " 'pretty': 1,\n",
              " 'income': 2,\n",
              " 'pathexcellent': 1,\n",
              " 'appsapps': 3,\n",
              " 'applicable': 1,\n",
              " 'needed': 1,\n",
              " 'wishesapp': 1,\n",
              " 'function': 1,\n",
              " 'capability': 2,\n",
              " 'given': 1,\n",
              " 'usetop': 1,\n",
              " 'er': 38,\n",
              " 'jonno': 16,\n",
              " 'vlo': 1,\n",
              " 'holeo': 1,\n",
              " 'khub': 7,\n",
              " 'kom': 1,\n",
              " 'ja': 5,\n",
              " 'amake': 2,\n",
              " 'temon': 1,\n",
              " 'ekta': 10,\n",
              " 'uthsaho': 1,\n",
              " 'deyna': 1,\n",
              " 'e': 18,\n",
              " 'offerdont': 1,\n",
              " 'started': 1,\n",
              " 'alarm': 1,\n",
              " 'forced': 1,\n",
              " 'stopexperience': 1,\n",
              " 'features': 2,\n",
              " 'helfull': 1,\n",
              " 'amazing': 4,\n",
              " 'conceptworst': 1,\n",
              " 'whenever': 1,\n",
              " 'try': 2,\n",
              " 'keeps': 1,\n",
              " 'sending': 1,\n",
              " 'opens': 1,\n",
              " 'pagereally': 1,\n",
              " 'optionworst': 1,\n",
              " 'lacking': 1,\n",
              " 'bored': 1,\n",
              " 'minitue': 1,\n",
              " 'deleted': 1,\n",
              " 'thatit': 1,\n",
              " 'losing': 1,\n",
              " 'timeplease': 1,\n",
              " 'getting': 3,\n",
              " 'fools': 1,\n",
              " 'creating': 1,\n",
              " 'offersverification': 1,\n",
              " 'longwhen': 1,\n",
              " 'photo': 7,\n",
              " 'blurso': 1,\n",
              " 'submit': 5,\n",
              " 'itbut': 1,\n",
              " 'submittedapp': 1,\n",
              " 'purpose': 1,\n",
              " 'satisfied': 1,\n",
              " 'du': 1,\n",
              " 'tracker': 1,\n",
              " 'earn': 5,\n",
              " 'refferawesome': 1,\n",
              " 'regular': 1,\n",
              " 'bookkeeping': 1,\n",
              " 'entrepreneur': 1,\n",
              " 'exist': 1,\n",
              " 'businessdont': 1,\n",
              " 'review': 4,\n",
              " 'android': 2,\n",
              " 'version': 6,\n",
              " 'crashed': 1,\n",
              " 'registrationupdate': 1,\n",
              " 'veryfai': 1,\n",
              " 'codeclose': 1,\n",
              " 'codi': 1,\n",
              " 'servicand': 1,\n",
              " 'coustomers': 1,\n",
              " 'two': 1,\n",
              " 'active': 1,\n",
              " 'onlyyou': 1,\n",
              " 'skitto': 3,\n",
              " 'simbad': 1,\n",
              " 'appsit': 1,\n",
              " 'deducting': 1,\n",
              " 'moneynice': 3,\n",
              " 'rewards': 1,\n",
              " 'starspayment': 1,\n",
              " 'link': 2,\n",
              " 'awesome': 3,\n",
              " 'kind': 5,\n",
              " 'payments': 2,\n",
              " 'appthis': 1,\n",
              " 'easierinterested': 1,\n",
              " 'monthly': 1,\n",
              " 'costgreat': 1,\n",
              " 'managing': 2,\n",
              " 'businesses': 2,\n",
              " 'absolutely': 1,\n",
              " 'brilliantone': 1,\n",
              " 'bangladesh': 8,\n",
              " 'world': 3,\n",
              " 'wishes': 2,\n",
              " 'ahead': 1,\n",
              " 'shebaxyzput': 1,\n",
              " 'details': 2,\n",
              " 'herbut': 1,\n",
              " 'month': 4,\n",
              " 'gonestill': 1,\n",
              " 'hotline': 1,\n",
              " 'positive': 1,\n",
              " 'jokingsmanager': 1,\n",
              " 'today': 2,\n",
              " 'paperless': 1,\n",
              " 'coz': 2,\n",
              " 'data': 5,\n",
              " 'bakcup': 1,\n",
              " 'smanagerso': 1,\n",
              " 'worry': 1,\n",
              " 'businessmen': 2,\n",
              " 'bakhi': 1,\n",
              " 'due': 1,\n",
              " 'trackingspecial': 1,\n",
              " 'facility': 2,\n",
              " 'chance': 1,\n",
              " 'special': 2,\n",
              " 'rased': 1,\n",
              " 'vai': 2,\n",
              " 'hepling': 1,\n",
              " 'sheba': 8,\n",
              " 'making': 1,\n",
              " 'waiting': 1,\n",
              " 'shebafake': 1,\n",
              " 'totallybecause': 1,\n",
              " 'fully': 1,\n",
              " 'reasonapp': 1,\n",
              " 'magnifying': 1,\n",
              " 'glass': 1,\n",
              " 'movingsuper': 1,\n",
              " 'reall': 1,\n",
              " 'monitoring': 2,\n",
              " 'beautiful': 2,\n",
              " 'loan': 12,\n",
              " 'mdrcently': 1,\n",
              " 'watsup': 1,\n",
              " 'asap': 1,\n",
              " 'solveworst': 1,\n",
              " 'feeling': 1,\n",
              " 'since': 1,\n",
              " 'years': 3,\n",
              " 'projects': 1,\n",
              " 'works': 1,\n",
              " 'insane': 1,\n",
              " 'holy': 1,\n",
              " 'cowworking': 1,\n",
              " 'closed': 1,\n",
              " 'automaticallydoesnt': 1,\n",
              " 'quickly': 2,\n",
              " 'doesnt': 2,\n",
              " 'show': 3,\n",
              " 'basik': 1,\n",
              " 'mainmenu': 1,\n",
              " 'disturbingbetter': 1,\n",
              " 'recharj': 1,\n",
              " 'disturbedapp': 1,\n",
              " 'crashing': 1,\n",
              " 'sucessfully': 1,\n",
              " 'joke': 1,\n",
              " 'lmaobest': 1,\n",
              " 'msme': 3,\n",
              " 'credit': 5,\n",
              " 'cards': 2,\n",
              " 'easilybad': 1,\n",
              " 'featureand': 1,\n",
              " 'promoted': 1,\n",
              " 'false': 2,\n",
              " 'advertismentbad': 1,\n",
              " 'appdont': 2,\n",
              " 'appi': 4,\n",
              " 'gave': 2,\n",
              " 'availableeasy': 1,\n",
              " 'simple': 1,\n",
              " 'smart': 1,\n",
              " 'entrepreneursgood': 1,\n",
              " 'ideagood': 1,\n",
              " 'siteapp': 1,\n",
              " 'breakup': 1,\n",
              " 'netting': 1,\n",
              " 'brakuptotally': 1,\n",
              " 'fakethe': 1,\n",
              " 'u': 8,\n",
              " 'automatic': 1,\n",
              " 'accountso': 1,\n",
              " 'ভই': 7,\n",
              " 'কউ': 25,\n",
              " 'এইট': 5,\n",
              " 'ইনসটল': 25,\n",
              " 'দয়ন': 2,\n",
              " 'নশলর': 1,\n",
              " 'চটরapplication': 1,\n",
              " 'reliablefully': 1,\n",
              " 'fakeapp': 1,\n",
              " 'besi': 5,\n",
              " 'hokwonderful': 1,\n",
              " 'flexiload': 2,\n",
              " 'luck': 4,\n",
              " 'smanagerbusiness': 1,\n",
              " 'accounting': 1,\n",
              " 'understandit': 1,\n",
              " 'control': 1,\n",
              " 'everywheregorgeous': 1,\n",
              " 'debit': 1,\n",
              " 'transaction': 3,\n",
              " 'dhaka': 2,\n",
              " 'sikkatuli': 1,\n",
              " 'specially': 1,\n",
              " 'executivegood': 1,\n",
              " 'businessaccording': 1,\n",
              " 'science': 1,\n",
              " 'technologybadno': 1,\n",
              " 'accountregistration': 1,\n",
              " 'finished': 1,\n",
              " 'whats': 1,\n",
              " 'problemgood': 2,\n",
              " 'otptremendous': 1,\n",
              " 'valuable': 1,\n",
              " 'long': 1,\n",
              " 'waygreat': 1,\n",
              " 'missinggoodonly': 1,\n",
              " 'bangla': 1,\n",
              " 'languageprice': 1,\n",
              " 'packages': 1,\n",
              " 'lower': 1,\n",
              " 'usedevelop': 1,\n",
              " 'systemekhn': 1,\n",
              " 'pronjonto': 1,\n",
              " 'kew': 7,\n",
              " 'bikri': 1,\n",
              " 'parse': 1,\n",
              " 'ei': 7,\n",
              " 'thekegood': 1,\n",
              " 'supportwant': 1,\n",
              " 'appbut': 1,\n",
              " 'continueasly': 1,\n",
              " 'deactivate': 1,\n",
              " 'optiontnxupdated': 1,\n",
              " 'fastest': 1,\n",
              " 'needusing': 1,\n",
              " 'easyallow': 1,\n",
              " 'eyrokom': 1,\n",
              " 'pblm': 1,\n",
              " 'hocche': 3,\n",
              " 'solutionshauar': 1,\n",
              " 'dhoner': 1,\n",
              " 'location': 2,\n",
              " 'lage': 2,\n",
              " 'knolove': 1,\n",
              " 'partnergood': 1,\n",
              " 'appbad': 8,\n",
              " 'showing': 1,\n",
              " 'netundoubtedly': 1,\n",
              " 'usegive': 1,\n",
              " 'goodno': 1,\n",
              " 'net': 1,\n",
              " 'appsbad': 4,\n",
              " 'poorawesome': 1,\n",
              " 'activists': 1,\n",
              " 'thank': 2,\n",
              " 'smananger': 1,\n",
              " 'teamdosent': 1,\n",
              " 'changing': 1,\n",
              " 'switch': 1,\n",
              " 'englishusable': 1,\n",
              " 'appsand': 1,\n",
              " 'businessmengood': 1,\n",
              " 'new': 7,\n",
              " 'entrepreneursthey': 1,\n",
              " 'handle': 1,\n",
              " 'businesshelpful': 1,\n",
              " 'medium': 1,\n",
              " 'enterprise': 1,\n",
              " 'ease': 1,\n",
              " 'smanagerad': 1,\n",
              " 'moneyaps': 1,\n",
              " 'personal': 2,\n",
              " 'info': 2,\n",
              " 'safty': 1,\n",
              " 'everybn': 1,\n",
              " 'becarefull': 1,\n",
              " 'line': 5,\n",
              " 'representative': 1,\n",
              " 'fullim': 1,\n",
              " 'failed': 2,\n",
              " 'verification': 4,\n",
              " 'home': 1,\n",
              " 'screenfrod': 1,\n",
              " 'appor': 1,\n",
              " 'itif': 1,\n",
              " 'unusual': 1,\n",
              " 'calls': 1,\n",
              " 'cimenice': 1,\n",
              " 'biasness': 1,\n",
              " 'live': 1,\n",
              " 'reject': 2,\n",
              " 'profileyou': 1,\n",
              " 'somethingapplied': 1,\n",
              " 'filled': 1,\n",
              " 'informations': 1,\n",
              " 'nobody': 1,\n",
              " 'responsing': 1,\n",
              " 'actually': 1,\n",
              " 'baduseful': 1,\n",
              " 'bussiness': 2,\n",
              " 'stockbest': 1,\n",
              " 'appsinstall': 1,\n",
              " 'apk': 4,\n",
              " 'loginow': 1,\n",
              " 'wait': 2,\n",
              " 'minitues': 1,\n",
              " 'timetha': 1,\n",
              " 'supar': 1,\n",
              " 'smanageri': 1,\n",
              " 'ezereliable': 1,\n",
              " 'platformstandard': 1,\n",
              " 'solutioncomplete': 1,\n",
              " 'great': 2,\n",
              " 'guysgood': 1,\n",
              " 'topnice': 1,\n",
              " 'projectforce': 1,\n",
              " 'pros': 1,\n",
              " 'threatened': 1,\n",
              " 'cut': 1,\n",
              " 'accountfake': 1,\n",
              " 'workinggood': 1,\n",
              " 'development': 2,\n",
              " 'servicesdont': 1,\n",
              " 'information': 3,\n",
              " 'fraudulent': 1,\n",
              " 'activity': 1,\n",
              " 'per': 3,\n",
              " 'fraudonline': 1,\n",
              " 'appmarket': 1,\n",
              " 'gd': 4,\n",
              " 'platformfuture': 1,\n",
              " 'powerful': 1,\n",
              " 'intuition': 1,\n",
              " 'touch': 1,\n",
              " 'hand': 1,\n",
              " 'makes': 1,\n",
              " 'closertop': 1,\n",
              " 'trusted': 1,\n",
              " 'appsappas': 1,\n",
              " 'valo': 18,\n",
              " 'probleam': 1,\n",
              " 'dekha': 2,\n",
              " 'deiwonderfull': 1,\n",
              " 'galaxy': 1,\n",
              " 'higher': 1,\n",
              " 'sir': 4,\n",
              " 'awsomereally': 1,\n",
              " 'unlimited': 1,\n",
              " 'usedbed': 1,\n",
              " 'aps': 1,\n",
              " 'downloaduseful': 1,\n",
              " 'workapps': 1,\n",
              " 'supports': 1,\n",
              " 'activities': 1,\n",
              " 'stores': 1,\n",
              " 'direction': 1,\n",
              " 'solutionyou': 1,\n",
              " 'insurehelpful': 1,\n",
              " 'thankapp': 1,\n",
              " 'miracle': 1,\n",
              " 'bakir': 2,\n",
              " ...}"
            ]
          },
          "metadata": {},
          "execution_count": 83
        }
      ]
    },
    {
      "cell_type": "code",
      "source": [
        "Gplay_Final = pd.DataFrame.from_dict([Gplay_count],)"
      ],
      "metadata": {
        "id": "ctvMrmGwC1mm"
      },
      "execution_count": null,
      "outputs": []
    },
    {
      "cell_type": "code",
      "source": [
        "Gplay_final = pd.DataFrame(Gplay_count.items(), columns=['Comments', 'Count'])"
      ],
      "metadata": {
        "id": "8Bm5xwTwJYuH"
      },
      "execution_count": null,
      "outputs": []
    },
    {
      "cell_type": "code",
      "source": [
        "Gplay_final"
      ],
      "metadata": {
        "colab": {
          "base_uri": "https://localhost:8080/",
          "height": 655
        },
        "id": "5tH28eQSK6xT",
        "outputId": "d6e0c146-9c2a-450b-a132-3939f7218c14"
      },
      "execution_count": null,
      "outputs": [
        {
          "output_type": "execute_result",
          "data": {
            "text/plain": [
              "                                               Comments  Count\n",
              "0                                              assalamu      1\n",
              "1                                               alaikum      1\n",
              "2                                              software      8\n",
              "3                                                really      5\n",
              "4                                               helpful     13\n",
              "...                                                 ...    ...\n",
              "5315                                            hapnice      1\n",
              "5316         postfakebadfoulbadcheatingfraudrubellanice      1\n",
              "5317  appnicebeautifulgoodexcellentgoodgoodgoodniceg...      1\n",
              "5318  appnicenicenicegoodnicenicenicenicenicenicenic...      1\n",
              "5319  appnicenicenicenicegoodnicenicenicenicenicenic...      1\n",
              "\n",
              "[5320 rows x 2 columns]"
            ],
            "text/html": [
              "\n",
              "  <div id=\"df-ce05f5e7-6803-4f85-8ee9-cd53e3809bbc\">\n",
              "    <div class=\"colab-df-container\">\n",
              "      <div>\n",
              "<style scoped>\n",
              "    .dataframe tbody tr th:only-of-type {\n",
              "        vertical-align: middle;\n",
              "    }\n",
              "\n",
              "    .dataframe tbody tr th {\n",
              "        vertical-align: top;\n",
              "    }\n",
              "\n",
              "    .dataframe thead th {\n",
              "        text-align: right;\n",
              "    }\n",
              "</style>\n",
              "<table border=\"1\" class=\"dataframe\">\n",
              "  <thead>\n",
              "    <tr style=\"text-align: right;\">\n",
              "      <th></th>\n",
              "      <th>Comments</th>\n",
              "      <th>Count</th>\n",
              "    </tr>\n",
              "  </thead>\n",
              "  <tbody>\n",
              "    <tr>\n",
              "      <th>0</th>\n",
              "      <td>assalamu</td>\n",
              "      <td>1</td>\n",
              "    </tr>\n",
              "    <tr>\n",
              "      <th>1</th>\n",
              "      <td>alaikum</td>\n",
              "      <td>1</td>\n",
              "    </tr>\n",
              "    <tr>\n",
              "      <th>2</th>\n",
              "      <td>software</td>\n",
              "      <td>8</td>\n",
              "    </tr>\n",
              "    <tr>\n",
              "      <th>3</th>\n",
              "      <td>really</td>\n",
              "      <td>5</td>\n",
              "    </tr>\n",
              "    <tr>\n",
              "      <th>4</th>\n",
              "      <td>helpful</td>\n",
              "      <td>13</td>\n",
              "    </tr>\n",
              "    <tr>\n",
              "      <th>...</th>\n",
              "      <td>...</td>\n",
              "      <td>...</td>\n",
              "    </tr>\n",
              "    <tr>\n",
              "      <th>5315</th>\n",
              "      <td>hapnice</td>\n",
              "      <td>1</td>\n",
              "    </tr>\n",
              "    <tr>\n",
              "      <th>5316</th>\n",
              "      <td>postfakebadfoulbadcheatingfraudrubellanice</td>\n",
              "      <td>1</td>\n",
              "    </tr>\n",
              "    <tr>\n",
              "      <th>5317</th>\n",
              "      <td>appnicebeautifulgoodexcellentgoodgoodgoodniceg...</td>\n",
              "      <td>1</td>\n",
              "    </tr>\n",
              "    <tr>\n",
              "      <th>5318</th>\n",
              "      <td>appnicenicenicegoodnicenicenicenicenicenicenic...</td>\n",
              "      <td>1</td>\n",
              "    </tr>\n",
              "    <tr>\n",
              "      <th>5319</th>\n",
              "      <td>appnicenicenicenicegoodnicenicenicenicenicenic...</td>\n",
              "      <td>1</td>\n",
              "    </tr>\n",
              "  </tbody>\n",
              "</table>\n",
              "<p>5320 rows × 2 columns</p>\n",
              "</div>\n",
              "      <button class=\"colab-df-convert\" onclick=\"convertToInteractive('df-ce05f5e7-6803-4f85-8ee9-cd53e3809bbc')\"\n",
              "              title=\"Convert this dataframe to an interactive table.\"\n",
              "              style=\"display:none;\">\n",
              "        \n",
              "  <svg xmlns=\"http://www.w3.org/2000/svg\" height=\"24px\"viewBox=\"0 0 24 24\"\n",
              "       width=\"24px\">\n",
              "    <path d=\"M0 0h24v24H0V0z\" fill=\"none\"/>\n",
              "    <path d=\"M18.56 5.44l.94 2.06.94-2.06 2.06-.94-2.06-.94-.94-2.06-.94 2.06-2.06.94zm-11 1L8.5 8.5l.94-2.06 2.06-.94-2.06-.94L8.5 2.5l-.94 2.06-2.06.94zm10 10l.94 2.06.94-2.06 2.06-.94-2.06-.94-.94-2.06-.94 2.06-2.06.94z\"/><path d=\"M17.41 7.96l-1.37-1.37c-.4-.4-.92-.59-1.43-.59-.52 0-1.04.2-1.43.59L10.3 9.45l-7.72 7.72c-.78.78-.78 2.05 0 2.83L4 21.41c.39.39.9.59 1.41.59.51 0 1.02-.2 1.41-.59l7.78-7.78 2.81-2.81c.8-.78.8-2.07 0-2.86zM5.41 20L4 18.59l7.72-7.72 1.47 1.35L5.41 20z\"/>\n",
              "  </svg>\n",
              "      </button>\n",
              "      \n",
              "  <style>\n",
              "    .colab-df-container {\n",
              "      display:flex;\n",
              "      flex-wrap:wrap;\n",
              "      gap: 12px;\n",
              "    }\n",
              "\n",
              "    .colab-df-convert {\n",
              "      background-color: #E8F0FE;\n",
              "      border: none;\n",
              "      border-radius: 50%;\n",
              "      cursor: pointer;\n",
              "      display: none;\n",
              "      fill: #1967D2;\n",
              "      height: 32px;\n",
              "      padding: 0 0 0 0;\n",
              "      width: 32px;\n",
              "    }\n",
              "\n",
              "    .colab-df-convert:hover {\n",
              "      background-color: #E2EBFA;\n",
              "      box-shadow: 0px 1px 2px rgba(60, 64, 67, 0.3), 0px 1px 3px 1px rgba(60, 64, 67, 0.15);\n",
              "      fill: #174EA6;\n",
              "    }\n",
              "\n",
              "    [theme=dark] .colab-df-convert {\n",
              "      background-color: #3B4455;\n",
              "      fill: #D2E3FC;\n",
              "    }\n",
              "\n",
              "    [theme=dark] .colab-df-convert:hover {\n",
              "      background-color: #434B5C;\n",
              "      box-shadow: 0px 1px 3px 1px rgba(0, 0, 0, 0.15);\n",
              "      filter: drop-shadow(0px 1px 2px rgba(0, 0, 0, 0.3));\n",
              "      fill: #FFFFFF;\n",
              "    }\n",
              "  </style>\n",
              "\n",
              "      <script>\n",
              "        const buttonEl =\n",
              "          document.querySelector('#df-ce05f5e7-6803-4f85-8ee9-cd53e3809bbc button.colab-df-convert');\n",
              "        buttonEl.style.display =\n",
              "          google.colab.kernel.accessAllowed ? 'block' : 'none';\n",
              "\n",
              "        async function convertToInteractive(key) {\n",
              "          const element = document.querySelector('#df-ce05f5e7-6803-4f85-8ee9-cd53e3809bbc');\n",
              "          const dataTable =\n",
              "            await google.colab.kernel.invokeFunction('convertToInteractive',\n",
              "                                                     [key], {});\n",
              "          if (!dataTable) return;\n",
              "\n",
              "          const docLinkHtml = 'Like what you see? Visit the ' +\n",
              "            '<a target=\"_blank\" href=https://colab.research.google.com/notebooks/data_table.ipynb>data table notebook</a>'\n",
              "            + ' to learn more about interactive tables.';\n",
              "          element.innerHTML = '';\n",
              "          dataTable['output_type'] = 'display_data';\n",
              "          await google.colab.output.renderOutput(dataTable, element);\n",
              "          const docLink = document.createElement('div');\n",
              "          docLink.innerHTML = docLinkHtml;\n",
              "          element.appendChild(docLink);\n",
              "        }\n",
              "      </script>\n",
              "    </div>\n",
              "  </div>\n",
              "  "
            ]
          },
          "metadata": {},
          "execution_count": 97
        }
      ]
    },
    {
      "cell_type": "code",
      "source": [
        "Gplay_final.to_csv('Google_Play_sManager.csv')"
      ],
      "metadata": {
        "id": "TXTfBUEjLISC"
      },
      "execution_count": null,
      "outputs": []
    }
  ]
}